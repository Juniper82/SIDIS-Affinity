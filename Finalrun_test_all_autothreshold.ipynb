{
  "nbformat": 4,
  "nbformat_minor": 5,
  "metadata": {
    "kernelspec": {
      "display_name": "Python 3 (ipykernel)",
      "language": "python",
      "name": "python3"
    },
    "language_info": {
      "codemirror_mode": {
        "name": "ipython",
        "version": 3
      },
      "file_extension": ".py",
      "mimetype": "text/x-python",
      "name": "python",
      "nbconvert_exporter": "python",
      "pygments_lexer": "ipython3",
      "version": "3.8.10"
    },
    "colab": {
      "name": "Copy of Finalrun_test_all_autothreshold.ipynb",
      "provenance": []
    }
  },
  "cells": [
    {
      "cell_type": "code",
      "metadata": {
        "id": "851a5566-3331-453a-85b9-0e7b603d7bb7",
        "colab": {
          "base_uri": "https://localhost:8080/"
        },
        "outputId": "4dcc2a96-176b-4ad0-d1fd-044906e1fe01"
      },
      "source": [
        "%%time\n",
        "\n",
        "import numpy as np\n",
        "from numpy import percentile\n",
        "import pandas as pd\n",
        "import os\n",
        "import copy\n",
        "import time\n",
        "\n",
        "# Make numpy printouts easier to read.\n",
        "np.set_printoptions(precision=3, suppress=True)\n",
        "np.random.seed(22)\n",
        "\n",
        "import tensorflow as tf\n",
        "#tf.debugging.set_log_device_placement(True)\n",
        "\n",
        "\n",
        "from tensorflow import keras\n",
        "from tensorflow.keras import layers\n",
        "from tensorflow.keras.layers.experimental import preprocessing\n",
        "from tensorflow.keras import regularizers\n",
        "from tensorflow.keras.utils import plot_model\n",
        "import pydot\n",
        "#import tensorflow_docs as tfdocs\n",
        "\n",
        "print(tf.__version__)\n",
        "from tensorflow.python.client import device_lib\n",
        "print(device_lib.list_local_devices())\n",
        "\n",
        "import matplotlib.pyplot as plt\n",
        "from sklearn.metrics import r2_score\n",
        "\n",
        "# Make numpy printouts easier to read.\n",
        "np.set_printoptions(precision=3, suppress=True)\n",
        "!git clone https://github.com/Juniper82/SIDIS-Affinity"
      ],
      "id": "851a5566-3331-453a-85b9-0e7b603d7bb7",
      "execution_count": null,
      "outputs": [
        {
          "output_type": "stream",
          "name": "stdout",
          "text": [
            "2.7.0\n",
            "[name: \"/device:CPU:0\"\n",
            "device_type: \"CPU\"\n",
            "memory_limit: 268435456\n",
            "locality {\n",
            "}\n",
            "incarnation: 6276074624806634148\n",
            "xla_global_id: -1\n",
            "]\n",
            "CPU times: user 3.47 s, sys: 377 ms, total: 3.84 s\n",
            "Wall time: 4.22 s\n"
          ]
        }
      ]
    },
    {
      "cell_type": "code",
      "metadata": {
        "id": "f26ddbe7-0c9d-4511-94da-a0719272ae08"
      },
      "source": [
        "# Define plotting function\n",
        "\n",
        "\n",
        "def plotPred(trueVal,predVal,title,threshold):\n",
        "    fig=plt.figure(figsize=(10,10))\n",
        "    a = plt.axes(aspect='equal')\n",
        "    plt.scatter(trueVal, predVal,alpha=0.05)\n",
        "    plt.xlabel('True Values [Affinity]',fontsize=20)\n",
        "    plt.ylabel('Predictions [Affinity]',fontsize=20)\n",
        "    plt.title(title,fontsize=25)\n",
        "    lims = [0, 1]\n",
        "    plt.xlim(lims)\n",
        "    plt.ylim(lims)\n",
        "    _ = plt.plot(lims, lims ,color = 'k',linestyle='-')\n",
        "    # add lines for residual threshold and center\n",
        "    x1 = np.linspace(0,1-threshold,100)\n",
        "    plt.plot(x1,x1+threshold, color = 'r',linestyle='--')\n",
        "    x2 = np.linspace(threshold,1,100)\n",
        "    plt.plot(x2,x2-threshold, color = 'r',linestyle='--')\n",
        "    plt.show()\n",
        "#     from matplotlib.backends.backend_pdf import PdfPages\n",
        "#     with PdfPages('../figures/tmd_sigmoid.pdf') as pdf:\n",
        "#         pdf.savefig(fig)\n",
        "#    plt.savefig('../figures/tmd_sigmoid.png')\n",
        "\n",
        "\n",
        "def getThresh(residuals):\n",
        "    badRes = np.ones(len(residuals)).tolist()\n",
        "    lowThresh = 0.0000000001\n",
        "    upperThresh = 1.\n",
        "    threshold = lowThresh\n",
        "    tolerance = 0.000001\n",
        "    atol = len(badRes)/len(residuals)\n",
        "    iterCount = 0\n",
        "\n",
        "    while np.abs(atol - .05) > tolerance :\n",
        "\n",
        "        badRes = [res for res in residuals if np.abs(res) > threshold]\n",
        "        atol = len(badRes)/len(residuals)\n",
        "\n",
        "        if np.abs(atol - 0.05) < tolerance: \n",
        "            break\n",
        "\n",
        "        else:\n",
        "            if atol < 0.05:\n",
        "                upperThresh = threshold\n",
        "            else:\n",
        "                lowThresh = threshold\n",
        "                \n",
        "        threshold = (upperThresh + lowThresh)/2 \n",
        "        iterCount += 1\n",
        "\n",
        "    print('# residuals: ',len(residuals))\n",
        "    print('# residuals outside threshold: ',len(badRes))\n",
        "    print('percent residuals outside threshold: ',len(badRes)/len(residuals))\n",
        "    print('max badRes: ', max(np.abs(badRes)),', max residual: ',max(np.abs(residuals)))\n",
        "    print('min BadRes: ', min(np.abs(badRes)))\n",
        "    print('threshold: ', threshold)\n",
        "    print('# of iterations: ',iterCount)\n",
        "    print('#'*12,'\\n'*2)\n",
        "    print('Percent residuals within +/- %s' % threshold)\n",
        "    accuracy = len([res for res in residuals if np.abs(res) <= threshold])/len(residuals)\n",
        "    print('accuracy: ',accuracy)\n",
        "    print('Percent residuals == 0.0')\n",
        "    accuracy = len([res for res in residuals if np.abs(res) == 0.0])/len(residuals)\n",
        "    print('accuracy: ',accuracy)\n",
        "    return(threshold)\n",
        "\n",
        "\n",
        "def getThresh2(residuals):\n",
        "    threshold = percentile(residuals, [2.5, 97.5])\n",
        "    print('Percent residuals within %s' % threshold)\n",
        "    accuracy = np.mean((residuals > threshold[0]) & (residuals < threshold[1]))\n",
        "    print('accuracy: ',accuracy)\n",
        "    print('Percent residuals == 0.0')\n",
        "    accuracy = np.mean(residuals == 0.0)\n",
        "    print('accuracy: ',accuracy)\n",
        "    return(threshold)\n",
        "\n",
        "\n",
        "def fivenumsum(resids):\n",
        "    \n",
        "    # calculate a 5-number summary\n",
        "    from numpy import percentile\n",
        "    quartiles = percentile(resids, [0, 25, 50, 75, 100])\n",
        "    # print 5-number summary\n",
        "    print('Min: %.3f' % quartiles[0])\n",
        "    print('Q1: %.3f' % quartiles[1])\n",
        "    print('Median: %.3f' % quartiles[2])\n",
        "    print('Q3: %.3f' % quartiles[3])\n",
        "    print('Max: %.3f' % quartiles[4])\n",
        "    \n"
      ],
      "id": "f26ddbe7-0c9d-4511-94da-a0719272ae08",
      "execution_count": null,
      "outputs": []
    },
    {
      "cell_type": "code",
      "metadata": {
        "id": "aa9165f7-a97c-4483-b08b-b742031d95d7"
      },
      "source": [
        "# # test tmd model and create plots for visualization of results\n",
        "# model_name = 'tmd_DNN_V2_sigmoid_checkpoint_model'\n",
        "\n",
        "# model_name=name+'_cp_model'\n",
        "\n",
        "def scot_plot(mld_path, file_path, lable_name, ):\n",
        "    \n",
        "    test_results = {}\n",
        "    model = tf.keras.models.load_model(mld_path)\n",
        "    test_features = np.load(file_path,allow_pickle=True)\n",
        "    #test_features = test_features.drop(columns=['currentaff','targetaff', 'collinearaff','hadron'])\n",
        "    #print(test_features.head())\n",
        "    test_labels = test_features.pop(lable_name)\n",
        "    print('Model Configureation')\n",
        "    print('#'*12,'\\n'*2)\n",
        "    for i, layer in enumerate (model.layers):\n",
        "        print ('layer', i, layer)\n",
        "        try:\n",
        "            print (\"    \",layer.activation)\n",
        "        except AttributeError:\n",
        "            print('   no activation attribute')\n",
        "        \n",
        "    print('#'*12,'\\n'*2)\n",
        "    print('Model Summary')\n",
        "    print(model.summary())\n",
        "    test_results[model_name] = model.evaluate(test_features, test_labels, verbose=0)\n",
        "    test_predictions = model.predict(test_features).flatten()\n",
        "    print('#'*12,'\\n'*2)\n",
        "#     negPred=[value for value in test_predictions if value < 0]\n",
        "#     giantPred=[value for value in test_predictions if value > 1]\n",
        "#     print('# of predictions < 0:',len(negPred),'\\n# of predictions > 1:',len(giantPred))\n",
        "\n",
        "#     if len(negPred)==0 and len(giantPred)==0:\n",
        "#         print('no correction needed')\n",
        "#     else:\n",
        "#         print('setting negative predictions to 0\\nsetting predictions > 1 to 1')\n",
        "#         test_predictions[test_predictions<0] = 0\n",
        "#         test_predictions[test_predictions>1] = 1\n",
        "#         print('testing affinity correction...')\n",
        "#         negPred=[value for value in test_predictions if value < 0]\n",
        "#         giantPred=[value for value in test_predictions if value > 1]\n",
        "#         print('# of predictions < 0:',len(negPred),'\\n# of predictions > 1:',len(giantPred))\n",
        "\n",
        "    print('#'*12,'\\n'*2)\n",
        "    residuals = test_labels-test_predictions\n",
        "    threshold = getThresh(residuals)\n",
        "    _ = getThresh2(residuals)\n",
        "    print('#'*12,'\\n'*2)\n",
        "    # badRes = [res for res in list(residuals) if np.abs(res) >= threshold] # residuals that are above threshold\n",
        "    # #print(badRes)\n",
        "    # percentBadRes = len(badRes)/len(residuals)\n",
        "\n",
        "    # Calculate R squared\n",
        "    print('----------------------------')\n",
        "    print('\\nModel Stats')\n",
        "    R2 = r2_score(test_labels, test_predictions, multioutput='variance_weighted')\n",
        "    print('mse: ',test_results[model_name])\n",
        "    print('R-squared: ',R2)\n",
        "    # print(np.round(percentBadRes,6),'percent of residuals were above threshold 0.2 for',len(test_labels),' predictions')\n",
        "    # print(len(badRes),' residuals were above threshold 0.2 for',len(test_labels),' predictions')\n",
        "    # print('max |residual|: ',max(np.abs(residuals)))\n",
        "    print('#'*12,'\\n'*2)\n",
        "    print('Five number summary of residuals')\n",
        "    fivenumsum(residuals)\n",
        "    print('#'*12,'\\n'*2)\n",
        "    plotPred(test_labels,test_predictions,model_name+' sigmod model',threshold)\n",
        "    plt.figure(figsize=(10,10))\n",
        "    plt.hist(residuals,bins=100)\n",
        "    plt.show()\n",
        "\n"
      ],
      "id": "aa9165f7-a97c-4483-b08b-b742031d95d7",
      "execution_count": null,
      "outputs": []
    },
    {
      "cell_type": "markdown",
      "metadata": {
        "id": "700376d9-8e99-4c57-84b4-356bf79decec"
      },
      "source": [
        "# TMD "
      ],
      "id": "700376d9-8e99-4c57-84b4-356bf79decec"
    },
    {
      "cell_type": "code",
      "metadata": {
        "id": "8434cb81-ac54-4edc-91b0-4470cc56d833"
      },
      "source": [
        "%%time\n",
        "\n",
        "# region_name = 'collinear'\n",
        "# region_name = 'current'\n",
        "# region_name = 'target'\n",
        "region_name = 'TMD'\n",
        "# lable_name = 'collinearaff'\n",
        "# lable_name = 'targetaff'\n",
        "# lable_name = 'currentaff'\n",
        "lable_name = 'tmdaff'\n",
        "file_name = 'EIC_aff_test_%s.pkl' % lable_name\n",
        "file_path = './expdata/' + file_name\n",
        "model_name = 'final_' + region_name\n",
        "mld_path = './models/' + model_name\n",
        "\n",
        "scot_plot(mld_path, file_path, lable_name)"
      ],
      "id": "8434cb81-ac54-4edc-91b0-4470cc56d833",
      "execution_count": null,
      "outputs": []
    },
    {
      "cell_type": "markdown",
      "metadata": {
        "id": "63b2c6e7-c63f-4279-8405-c347b23c63be"
      },
      "source": [
        "# Current"
      ],
      "id": "63b2c6e7-c63f-4279-8405-c347b23c63be"
    },
    {
      "cell_type": "code",
      "metadata": {
        "id": "00cd6014-bbe3-4eed-883d-6fcb258f03b7"
      },
      "source": [
        "%%time\n",
        "\n",
        "# region_name = 'collinear'\n",
        "# region_name = 'target'\n",
        "region_name = 'current'\n",
        "# region_name = 'TMD'\n",
        "lable_name = region_name + 'aff'\n",
        "file_name = 'EIC_aff_test_%s.pkl' % lable_name\n",
        "file_path = './expdata/' + file_name\n",
        "model_name = 'final_' + region_name\n",
        "mld_path = './models/' + model_name\n",
        "\n",
        "scot_plot(mld_path, file_path, lable_name)"
      ],
      "id": "00cd6014-bbe3-4eed-883d-6fcb258f03b7",
      "execution_count": null,
      "outputs": []
    },
    {
      "cell_type": "markdown",
      "metadata": {
        "id": "28a59ce7-5e19-4166-847e-16a0dab19a99"
      },
      "source": [
        "# Collinear"
      ],
      "id": "28a59ce7-5e19-4166-847e-16a0dab19a99"
    },
    {
      "cell_type": "code",
      "metadata": {
        "id": "9bf4c06d-5b72-4e39-8079-43d7a4849453"
      },
      "source": [
        "%%time\n",
        "\n",
        "region_name = 'collinear'\n",
        "# region_name = 'target'\n",
        "# region_name = 'current'\n",
        "# region_name = 'TMD'\n",
        "lable_name = region_name + 'aff'\n",
        "file_name = 'EIC_aff_test_%s.pkl' % lable_name\n",
        "file_path = './expdata/' + file_name\n",
        "model_name = 'final_' + region_name\n",
        "mld_path = './models/' + model_name\n",
        "\n",
        "scot_plot(mld_path, file_path, lable_name)"
      ],
      "id": "9bf4c06d-5b72-4e39-8079-43d7a4849453",
      "execution_count": null,
      "outputs": []
    },
    {
      "cell_type": "markdown",
      "metadata": {
        "id": "dd345c75-f97c-4611-9d1f-71120a9ec883"
      },
      "source": [
        "# target"
      ],
      "id": "dd345c75-f97c-4611-9d1f-71120a9ec883"
    },
    {
      "cell_type": "code",
      "metadata": {
        "id": "8115dfba-e167-46b2-bdc7-b8956ad2c8c6"
      },
      "source": [
        "%%time\n",
        "\n",
        "# region_name = 'collinear'\n",
        "region_name = 'target'\n",
        "# region_name = 'current'\n",
        "# region_name = 'TMD'\n",
        "lable_name = region_name + 'aff'\n",
        "file_name = 'EIC_aff_test_%s.pkl' % lable_name\n",
        "file_path = './expdata/' + file_name\n",
        "model_name = 'final_' + region_name\n",
        "mld_path = './models/' + model_name\n",
        "\n",
        "scot_plot(mld_path, file_path, lable_name)"
      ],
      "id": "8115dfba-e167-46b2-bdc7-b8956ad2c8c6",
      "execution_count": null,
      "outputs": []
    }
  ]
}