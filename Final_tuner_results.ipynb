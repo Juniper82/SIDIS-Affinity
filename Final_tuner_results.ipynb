{
 "cells": [
  {
   "cell_type": "code",
   "execution_count": 1,
   "id": "609e98fa-1e0e-41ca-971a-1b45645ce30e",
   "metadata": {},
   "outputs": [],
   "source": [
    "import os \n",
    "import json"
   ]
  },
  {
   "cell_type": "code",
   "execution_count": null,
   "id": "5aeaf49c-a794-45c1-b130-e1c66fe96065",
   "metadata": {},
   "outputs": [],
   "source": [
    "!git clone https://github.com/QCDHUB/SIDIS-Affinity\n",
    "\n",
    "%cd '/content/SIDIS-Affinity'"
   ]
  },
  {
   "cell_type": "code",
   "execution_count": 2,
   "id": "88e2bbe4-26d5-418d-a4fa-ea9708fc3981",
   "metadata": {},
   "outputs": [],
   "source": [
    "# set up paths for log files I moved and changed group for\n",
    "workingdir = \"./Training/log\"\n",
    "tmd_sigmoid_path = workingdir+\"/autotune_TMD_sigmoid_V6.1/20211119-072018/tmd_auto_tune_final_run\"\n",
    "# tmd_linear_path = workingdir+\"/autotune_TMD_linear_V6.2/20211119-145932/tmd_auto_tune_final_run\"\n",
    "\n",
    "collinear_sigmoid_path = workingdir+\"/autotune_COLLINEAR_sigmoid_V6.1/20211120-060535/collinear_auto_tune_final_run\"\n",
    "# collinear_linear_path = workingdir+\"/autotune_COLLINEAR_linear_V6.2/20211120-133536/collinear_auto_tune_final_run\"\n",
    "\n",
    "current_sigmoid_path = workingdir+\"/autotune_CURRENT_sigmoid_V6.1/20211120-220933/current_auto_tune_final_run\"\n",
    "# current_linear_path = workingdir+\"/autotune_CURRENT_linear_V6.2/20211121-055406/current_auto_tune_final_run\"\n",
    "\n",
    "target_sigmoid_path = workingdir+\"/autotune_TARGET_sigmoid_V6.1/20211121-142047/target_auto_tune_final_run\"\n",
    "# target_linear_path = workingdir+\"/autotune_TARGET_linear_V6.2/20211121-201630/target_auto_tune_final_run\"\n",
    "\n",
    "soft_sigmoid_path = workingdir+\"/autotune_soft_sigmoid_V6.1/20211130-154155/collinear_auto_tune_final_run/\""
   ]
  },
  {
   "cell_type": "code",
   "execution_count": 3,
   "id": "553092e8-bfb0-4269-a52b-3e6d3564705c",
   "metadata": {},
   "outputs": [],
   "source": [
    "def get_trial_paths(dir_path):\n",
    "    for root, dirs, files in os.walk(dir_path):\n",
    "        for file in files:\n",
    "            if file == \"trial.json\":\n",
    "                yield os.path.join(root, file)\n",
    "\n",
    "def load_json(path):\n",
    "    with open(path) as jdata:\n",
    "        data=json.load(jdata)\n",
    "    return data\n",
    "\n",
    "def get_trial_id(json):\n",
    "    return json['trial_id']\n",
    "\n",
    "def get_units(json):\n",
    "    return json['hyperparameters']['values']['units']\n",
    "\n",
    "def get_units2(json):\n",
    "    return json['hyperparameters']['values']['units2']\n",
    "\n",
    "def get_train_loss(json):\n",
    "    return json['metrics']['metrics']['loss']['observations'][0]['value'][0]\n",
    "\n",
    "def get_val_loss(json):\n",
    "    return json['score']\n",
    "\n",
    "def phrase_trial(dir_path):\n",
    "    return {get_trial_id(data): \n",
    "            {\n",
    "        'units': get_units(data),\n",
    "        'units2': get_units2(data),\n",
    "        'loss': get_train_loss(data),\n",
    "        'score': get_val_loss(data)} \n",
    "            for data in (load_json(path)\n",
    "                         for path in get_trial_paths(dir_path))\n",
    "           }\n",
    "\n",
    "def get_top_n_scores(n, complete_trial):\n",
    "    scores=[x['score'] for x in complete_trial.values()]\n",
    "    scores.sort() \n",
    "    return scores[:n]\n",
    "\n",
    "def get_top_n_ids(n,complete_trial):\n",
    "    scores=get_top_n_scores(n,complete_trial)\n",
    "    topkeys=[k for k,v in complete_trial.items() if v['score'] in scores]\n",
    "    return dict(filter(lambda elem: elem[0] in topkeys, complete_trial.items()))\n"
   ]
  },
  {
   "cell_type": "markdown",
   "id": "ddac03d8-f91a-42cc-bea8-e43f94722227",
   "metadata": {},
   "source": [
    "# TMD sigmoid"
   ]
  },
  {
   "cell_type": "code",
   "execution_count": 4,
   "id": "e46ce70c-cc43-48f1-86bc-60e099e8a50f",
   "metadata": {},
   "outputs": [
    {
     "data": {
      "text/plain": [
       "{'8d2b5fbbde550eb2ef882ceef22648ac': {'units': 832,\n",
       "  'units2': 400,\n",
       "  'loss': 7.064063538564369e-05,\n",
       "  'score': 0.00012413055810611695},\n",
       " 'f46eb3b4170bffd33e4643ca07767d01': {'units': 576,\n",
       "  'units2': 160,\n",
       "  'loss': 7.413602725137025e-05,\n",
       "  'score': 0.00010421664774185047},\n",
       " '9fb45faad40cb31c97662d34f331fc5b': {'units': 320,\n",
       "  'units2': 592,\n",
       "  'loss': 7.188286690507084e-05,\n",
       "  'score': 0.00014323853247333318},\n",
       " '551124e9021f104f969f9b6f03aaee31': {'units': 832,\n",
       "  'units2': 880,\n",
       "  'loss': 8.514771616319194e-05,\n",
       "  'score': 0.00012667216651607305},\n",
       " '200f4e5f0f685ae29149776024359dc5': {'units': 768,\n",
       "  'units2': 208,\n",
       "  'loss': 7.259032281581312e-05,\n",
       "  'score': 0.00011936284136027098}}"
      ]
     },
     "execution_count": 4,
     "metadata": {},
     "output_type": "execute_result"
    }
   ],
   "source": [
    "n=5 # we want top 5 results\n",
    "complete_trial=phrase_trial(tmd_sigmoid_path) # get all results\n",
    "get_top_n_ids(5,complete_trial) # get 5 best "
   ]
  },
  {
   "cell_type": "markdown",
   "id": "7f5f295a-483e-4f55-8e22-4558ffffb030",
   "metadata": {},
   "source": [
    "{'units': 576,\n",
    "  'units2': 160,\n",
    "  'loss': 7.413602725137025e-05,\n",
    "  'score': 0.00010421664774185047}"
   ]
  },
  {
   "cell_type": "markdown",
   "id": "278bac27-618b-48cd-b3e7-58a6d72bfedd",
   "metadata": {},
   "source": [
    "# TMD linear"
   ]
  },
  {
   "cell_type": "code",
   "execution_count": 5,
   "id": "0675a99c-c2ce-48ee-a142-7ddd99e039fe",
   "metadata": {},
   "outputs": [
    {
     "data": {
      "text/plain": [
       "{'4e335d7ae64f8f504f3112198a9bcd04': {'units': 640,\n",
       "  'units2': 496,\n",
       "  'loss': 0.00015030942449811846,\n",
       "  'score': 0.00015900394646450877},\n",
       " 'aa31d3eeffacd1a483d628b20811eed4': {'units': 960,\n",
       "  'units2': 112,\n",
       "  'loss': 0.00012089641677448526,\n",
       "  'score': 0.0001360913593089208},\n",
       " '1155c52c06d7395b69d5ec6bffc1d1b9': {'units': 896,\n",
       "  'units2': 928,\n",
       "  'loss': 0.0001227851607836783,\n",
       "  'score': 8.988634363049641e-05},\n",
       " '328e123182002e44b61b5c900fdd60a8': {'units': 704,\n",
       "  'units2': 256,\n",
       "  'loss': 0.00010552760795690119,\n",
       "  'score': 0.00010704049054766074},\n",
       " '4f5cb62e40bdc271c160a898818da597': {'units': 1024,\n",
       "  'units2': 112,\n",
       "  'loss': 0.00012807569873984903,\n",
       "  'score': 0.0001631204504519701}}"
      ]
     },
     "execution_count": 5,
     "metadata": {},
     "output_type": "execute_result"
    }
   ],
   "source": [
    "# n=5 # we want top 5 results\n",
    "# complete_trial=phrase_trial(tmd_linear_path) # get all results\n",
    "# get_top_n_ids(5,complete_trial) # get 5 best"
   ]
  },
  {
   "cell_type": "markdown",
   "id": "14868851-ce58-424f-a3c4-47ae1344d289",
   "metadata": {},
   "source": []
  },
  {
   "cell_type": "markdown",
   "id": "9b6dfc34-7c7a-47df-a07a-079fefe7af6b",
   "metadata": {},
   "source": [
    "# collinear sigmoid"
   ]
  },
  {
   "cell_type": "code",
   "execution_count": 6,
   "id": "46659fc1-8130-4811-91eb-ebdd43db821d",
   "metadata": {},
   "outputs": [
    {
     "data": {
      "text/plain": [
       "{'2f346757a7cfbd7d851eab339d79cafe': {'units': 768,\n",
       "  'units2': 160,\n",
       "  'loss': 8.84586843312718e-05,\n",
       "  'score': 0.00012284408148843795},\n",
       " '7d1a38fa2abdd17812ea40f3f90376ee': {'units': 832,\n",
       "  'units2': 880,\n",
       "  'loss': 6.780504190828651e-05,\n",
       "  'score': 7.840446050977334e-05},\n",
       " '75b7e8624fcc0ee1e5270dadcccee4e2': {'units': 960,\n",
       "  'units2': 112,\n",
       "  'loss': 8.63721506902948e-05,\n",
       "  'score': 0.00012607990356627852},\n",
       " '8acf0fdadb5c9b19ad963c9f78bbeed4': {'units': 960,\n",
       "  'units2': 544,\n",
       "  'loss': 7.428621029248461e-05,\n",
       "  'score': 0.00011997741967206821},\n",
       " 'f88dd864e71b4cc836a0645ebd269f45': {'units': 1024,\n",
       "  'units2': 304,\n",
       "  'loss': 7.552270108135417e-05,\n",
       "  'score': 0.00011312704009469599}}"
      ]
     },
     "execution_count": 6,
     "metadata": {},
     "output_type": "execute_result"
    }
   ],
   "source": [
    "\n",
    "n=5 # we want top 5 results\n",
    "complete_trial=phrase_trial(collinear_sigmoid_path) # get all results\n",
    "get_top_n_ids(5,complete_trial) # get 5 best"
   ]
  },
  {
   "cell_type": "markdown",
   "id": "fab56e33-9d29-4594-a028-96ad6be97ead",
   "metadata": {},
   "source": [
    "{'units': 960,\n",
    "  'units2': 544,\n",
    "  'loss': 7.428621029248461e-05,\n",
    "  'score': 0.00011997741967206821}"
   ]
  },
  {
   "cell_type": "markdown",
   "id": "71dbc36c-b289-4704-bb1d-bf51e651ff5f",
   "metadata": {},
   "source": [
    "# collinear linear"
   ]
  },
  {
   "cell_type": "code",
   "execution_count": 7,
   "id": "7f409474-aff1-4430-a087-70c88198c29e",
   "metadata": {},
   "outputs": [
    {
     "data": {
      "text/plain": [
       "{'dd32b442126da3e789ab7b4de720c60e': {'units': 896,\n",
       "  'units2': 160,\n",
       "  'loss': 9.366212179884315e-05,\n",
       "  'score': 9.885929466690868e-05},\n",
       " 'ac6b842d95fd9e6140268484ad84cf03': {'units': 960,\n",
       "  'units2': 928,\n",
       "  'loss': 0.0001385531504638493,\n",
       "  'score': 0.00017724541248753667},\n",
       " 'e1186630b47e0411c6cc1ddc05106548': {'units': 576,\n",
       "  'units2': 160,\n",
       "  'loss': 0.00013084204692859203,\n",
       "  'score': 0.00016002652409952134},\n",
       " 'd1bff40a6ce93e7cfe33c77e912cac87': {'units': 896,\n",
       "  'units2': 208,\n",
       "  'loss': 0.00012434156087692827,\n",
       "  'score': 0.00014610592916142195},\n",
       " '9995c0211a26c5b9193b813e8fa51b2d': {'units': 768,\n",
       "  'units2': 160,\n",
       "  'loss': 9.56567091634497e-05,\n",
       "  'score': 0.00011260405881330371}}"
      ]
     },
     "execution_count": 7,
     "metadata": {},
     "output_type": "execute_result"
    }
   ],
   "source": [
    "\n",
    "# n=5 # we want top 5 results\n",
    "# complete_trial=phrase_trial(collinear_linear_path ) # get all results\n",
    "# get_top_n_ids(5,complete_trial) # get 5 best"
   ]
  },
  {
   "cell_type": "code",
   "execution_count": null,
   "id": "de094c1c-ba4b-4af4-b058-90aa9937f504",
   "metadata": {},
   "outputs": [],
   "source": []
  },
  {
   "cell_type": "markdown",
   "id": "4d631961-318c-48ab-a3e6-c283f18bdeda",
   "metadata": {},
   "source": [
    "# current linear"
   ]
  },
  {
   "cell_type": "code",
   "execution_count": 8,
   "id": "f335a3b1-96a7-4019-a85b-4c7036f13b37",
   "metadata": {},
   "outputs": [
    {
     "data": {
      "text/plain": [
       "{'f1a6e7e0a6782bb50114d1b7db37f410': {'units': 128,\n",
       "  'units2': 832,\n",
       "  'loss': 3.0644652724731714e-05,\n",
       "  'score': 3.522754195728339e-05},\n",
       " '5053b1707e37d4ba7691777deeafb334': {'units': 448,\n",
       "  'units2': 208,\n",
       "  'loss': 3.855373870464973e-05,\n",
       "  'score': 3.19256323564332e-05},\n",
       " 'dec4346972d5c0a28206c28975846029': {'units': 960,\n",
       "  'units2': 352,\n",
       "  'loss': 4.445461672730744e-05,\n",
       "  'score': 3.141019624308683e-05},\n",
       " '2b495db0ccfbe0ec5ee75fe26c4530c5': {'units': 576,\n",
       "  'units2': 688,\n",
       "  'loss': 3.58903307642322e-05,\n",
       "  'score': 3.364347867318429e-05},\n",
       " '144d7e788f71bc2a0cdbfc9be3b0c316': {'units': 768,\n",
       "  'units2': 448,\n",
       "  'loss': 2.855881757568568e-05,\n",
       "  'score': 2.246771691716276e-05}}"
      ]
     },
     "execution_count": 8,
     "metadata": {},
     "output_type": "execute_result"
    }
   ],
   "source": [
    "\n",
    "# n=5 # we want top 5 results\n",
    "# complete_trial=phrase_trial(current_linear_path) # get all results\n",
    "# get_top_n_ids(5,complete_trial) # get 5 best"
   ]
  },
  {
   "cell_type": "markdown",
   "id": "ab9eab18-e8fe-4cd0-869f-2b76ef520ae4",
   "metadata": {},
   "source": []
  },
  {
   "cell_type": "markdown",
   "id": "c5a0e63c-cbd6-43bc-b074-7cf37c1a959e",
   "metadata": {},
   "source": [
    "# current sigmoid"
   ]
  },
  {
   "cell_type": "code",
   "execution_count": 9,
   "id": "9f9a36de-f5af-4669-8395-7e07267a1cdd",
   "metadata": {},
   "outputs": [
    {
     "data": {
      "text/plain": [
       "{'9c059e4c67dd22d534d088d6e31a1bcd': {'units': 1024,\n",
       "  'units2': 112,\n",
       "  'loss': 2.4764862246229313e-05,\n",
       "  'score': 2.8476562874857336e-05},\n",
       " '14f69792d0e9acea913e34106f2c124e': {'units': 512,\n",
       "  'units2': 736,\n",
       "  'loss': 2.3930324459797703e-05,\n",
       "  'score': 2.704112011997495e-05},\n",
       " 'b993608595651b5f8510e9d710cd1b2f': {'units': 960,\n",
       "  'units2': 496,\n",
       "  'loss': 3.088614539592527e-05,\n",
       "  'score': 2.532532198529225e-05},\n",
       " '5d354df34a537a60941996e8cb70c539': {'units': 960,\n",
       "  'units2': 448,\n",
       "  'loss': 3.09775750793051e-05,\n",
       "  'score': 2.643096013343893e-05},\n",
       " '7af9d52fa2f06c16a0c066805c4db7b5': {'units': 640,\n",
       "  'units2': 832,\n",
       "  'loss': 2.4940418370533735e-05,\n",
       "  'score': 2.3926690118969418e-05}}"
      ]
     },
     "execution_count": 9,
     "metadata": {},
     "output_type": "execute_result"
    }
   ],
   "source": [
    "\n",
    "n=5 # we want top 5 results\n",
    "complete_trial=phrase_trial(current_sigmoid_path) # get all results\n",
    "get_top_n_ids(5,complete_trial) # get 5 best"
   ]
  },
  {
   "cell_type": "markdown",
   "id": "6d5e8f1b-7028-4bf2-b329-8dafd0b2507c",
   "metadata": {},
   "source": [
    "{'units': 1024,\n",
    "  'units2': 112,\n",
    "  'loss': 2.4764862246229313e-05,\n",
    "  'score': 2.8476562874857336e-05}"
   ]
  },
  {
   "cell_type": "markdown",
   "id": "8a054b5b-de3b-4c17-9eeb-ed415a48fb72",
   "metadata": {},
   "source": [
    "# target sigmoid"
   ]
  },
  {
   "cell_type": "markdown",
   "id": "9cb00658-66ae-4968-89a4-4ded4f0ab81b",
   "metadata": {},
   "source": [
    "# target sigmoid"
   ]
  },
  {
   "cell_type": "code",
   "execution_count": 10,
   "id": "656c7e42-3893-406f-a3c3-fdbef016b925",
   "metadata": {},
   "outputs": [
    {
     "data": {
      "text/plain": [
       "{'1cf2fd25c8578dc4de842d6085febf23': {'units': 896,\n",
       "  'units2': 208,\n",
       "  'loss': 2.3837962999095907e-06,\n",
       "  'score': 1.420930061613035e-06},\n",
       " '5ba49847ef6a2d7efc7d6b1d2a435cae': {'units': 448,\n",
       "  'units2': 256,\n",
       "  'loss': 2.186263827752555e-06,\n",
       "  'score': 2.493418833182659e-06},\n",
       " '8760dadb03103aa6edeecb4c89c6b802': {'units': 896,\n",
       "  'units2': 160,\n",
       "  'loss': 2.280037961099879e-06,\n",
       "  'score': 1.7237560996363754e-06},\n",
       " '05a6b29173ccb053c741f8648be22cf7': {'units': 896,\n",
       "  'units2': 256,\n",
       "  'loss': 2.3757493181619793e-06,\n",
       "  'score': 1.4470144833467202e-06},\n",
       " '8744b753cdc52ea86e959c24cd6a2506': {'units': 1024,\n",
       "  'units2': 352,\n",
       "  'loss': 2.3350066840066575e-06,\n",
       "  'score': 1.6907828239709488e-06}}"
      ]
     },
     "execution_count": 10,
     "metadata": {},
     "output_type": "execute_result"
    }
   ],
   "source": [
    "n=5 # we want top 5 results\n",
    "complete_trial=phrase_trial(target_sigmoid_path) # get all results\n",
    "get_top_n_ids(5,complete_trial) # get 5 best"
   ]
  },
  {
   "cell_type": "markdown",
   "id": "89408f6e-4262-419e-97c7-d53675bb4bd3",
   "metadata": {},
   "source": [
    "{'units': 896,\n",
    "  'units2': 256,\n",
    "  'loss': 2.3757493181619793e-06,\n",
    "  'score': 1.4470144833467202e-06}"
   ]
  },
  {
   "cell_type": "markdown",
   "id": "c02d6f6c-a995-4838-a99a-3fe8061994dc",
   "metadata": {},
   "source": [
    "# target linear"
   ]
  },
  {
   "cell_type": "code",
   "execution_count": 11,
   "id": "3adfb291-4667-468f-90aa-56698fee8ca7",
   "metadata": {},
   "outputs": [
    {
     "data": {
      "text/plain": [
       "{'f4c164c2995604f58665c0fec6dc0063': {'units': 640,\n",
       "  'units2': 352,\n",
       "  'loss': 8.488237313031277e-07,\n",
       "  'score': 2.895928901125444e-07},\n",
       " '2361b4ff0283ffbf38af0fc1cbd65263': {'units': 1024,\n",
       "  'units2': 544,\n",
       "  'loss': 1.8154870531361667e-06,\n",
       "  'score': 1.2160035112174228e-06},\n",
       " '85715cbdc491f4ff6ece5acc1361a032': {'units': 960,\n",
       "  'units2': 208,\n",
       "  'loss': 1.3299951433509705e-06,\n",
       "  'score': 9.134566312241077e-07},\n",
       " 'a80ec06f6e04a89c936ff52d9373c466': {'units': 1024,\n",
       "  'units2': 160,\n",
       "  'loss': 1.1806835118477466e-06,\n",
       "  'score': 4.7473372433159966e-07},\n",
       " 'ad1af0e905f7a6dc2ba8845f3d76de2b': {'units': 896,\n",
       "  'units2': 208,\n",
       "  'loss': 8.712394219401176e-07,\n",
       "  'score': 5.734862611461722e-07}}"
      ]
     },
     "execution_count": 11,
     "metadata": {},
     "output_type": "execute_result"
    }
   ],
   "source": [
    "# n=5 # we want top 5 results\n",
    "# complete_trial=phrase_trial(target_linear_path) # get all results\n",
    "# get_top_n_ids(5,complete_trial) # get 5 best\n"
   ]
  },
  {
   "cell_type": "markdown",
   "id": "d746d91a-1dc4-4032-8ba4-80dcf35eb072",
   "metadata": {},
   "source": [
    "# soft sigmod"
   ]
  },
  {
   "cell_type": "code",
   "execution_count": null,
   "id": "1d407bc0-8f61-46e3-bd72-17dad1c360ee",
   "metadata": {},
   "outputs": [],
   "source": [
    "n=5 # we want top 5 results\n",
    "complete_trial=phrase_trial(soft_sigmoid_path) # get all results\n",
    "get_top_n_ids(5,complete_trial) # get 5 best"
   ]
  },
  {
   "cell_type": "code",
   "execution_count": null,
   "id": "cfedf309-2578-425e-949a-e39c99848a11",
   "metadata": {},
   "outputs": [],
   "source": []
  },
  {
   "cell_type": "code",
   "execution_count": null,
   "id": "f2cd4202-82fc-408d-96ac-05bdd6453468",
   "metadata": {},
   "outputs": [],
   "source": []
  }
 ],
 "metadata": {
  "kernelspec": {
   "display_name": "Python 3 (ipykernel)",
   "language": "python",
   "name": "python3"
  },
  "language_info": {
   "codemirror_mode": {
    "name": "ipython",
    "version": 3
   },
   "file_extension": ".py",
   "mimetype": "text/x-python",
   "name": "python",
   "nbconvert_exporter": "python",
   "pygments_lexer": "ipython3",
   "version": "3.8.10"
  }
 },
 "nbformat": 4,
 "nbformat_minor": 5
}
