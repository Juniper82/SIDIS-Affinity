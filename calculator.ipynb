{
 "cells": [
  {
   "cell_type": "code",
   "execution_count": null,
   "id": "4a215b73-7813-4c11-b450-2a8f770019c1",
   "metadata": {},
   "outputs": [],
   "source": [
    "!git clone https://github.com/QCDHUB/SIDIS-Affinity\n",
    "\n",
    "import numpy as np\n",
    "import pandas as pd\n",
    "from pandas import read_excel \n",
    "from copy import deepcopy\n",
    "from ipywidgets import *\n",
    "import logging, os \n",
    "logging.disable(logging.WARNING) \n",
    "os.environ[\"TF_CPP_MIN_LOG_LEVEL\"] = \"3\"\n",
    "\n",
    "import tensorflow as tf\n",
    "print(\"tf.__version__\", tf.__version__)\n",
    "\n",
    "%cd '/content/SIDIS-Affinity'"
   ]
  },
  {
   "cell_type": "code",
   "execution_count": null,
   "id": "6803b649-ca26-4c23-a8df-72e71c5a7b9e",
   "metadata": {},
   "outputs": [],
   "source": [
    "# Load Models\n",
    "tmd_model = tf.keras.models.load_model('./models/final_TMD')\n",
    "target_model = tf.keras.models.load_model('./models/final_target')\n",
    "collinear_model = tf.keras.models.load_model('./models/final_collinear')\n",
    "current_model = tf.keras.models.load_model('./models/final_current')\n",
    "soft_model = tf.keras.models.load_model('./models/final_soft')"
   ]
  },
  {
   "cell_type": "code",
   "execution_count": null,
   "id": "865e866a-20a8-45db-a47c-d6cd43624121",
   "metadata": {},
   "outputs": [],
   "source": [
    "x_Input = widgets.BoundedFloatText(value = 0.0000343, min=0.0, max=10.0, step=0.1, description='x:', disabled=False)\n",
    "z_Input = widgets.BoundedFloatText(value = 0.12, min=0.0, max=10.0, step=0.1, description='z:', disabled=False)\n",
    "Q2_Input = widgets.BoundedFloatText(value = 1.543, min=0.0, max=10.0, step=0.1, description='Q2:', disabled=False)\n",
    "pT_Input = widgets.BoundedFloatText(value = 1.2, min=0.0, max=10.0, step=0.1, description='pT:', disabled=False)\n",
    "R0max_Input = widgets.BoundedFloatText(value = 0.05, min=0.05, max=1.0, step=0.1, description='R0:', disabled=False)\n",
    "R1max_Input = widgets.BoundedFloatText(value = 0.05, min=0.05, max=1.0, step=0.1, description='R1:', disabled=False)\n",
    "R2max_Input = widgets.BoundedFloatText(value = 0.05, min=0.05, max=1.0, step=0.1, description='R2:', disabled=False)\n",
    "regionDrop=widgets.Dropdown(options=[('tmd', 'tmd'), ('target', 'target'), \n",
    "             ('collinear', 'collinear'), ('current', 'current'),\n",
    "             ('soft', 'soft')], value='tmd', description='Region:')\n",
    "\n",
    "def calculator(x=x_Input,z=z_Input,Q2=Q2_Input,pT=pT_Input,R0max=R0max_Input,R1max=R1max_Input,R2max=R2max_Input,region=regionDrop):\n",
    "\n",
    "    test_features = pd.DataFrame({'pT':pT,'Q2':Q2,'x':x,'z':z,'R0max':R0max,'R1max':R1max,'R2max':R2max},index=[0])\n",
    "\n",
    "    if region == 'tmd':\n",
    "        prediction = tmd_model.predict(test_features).flatten()\n",
    "    elif region == 'target':\n",
    "        prediction = target_model.predict(test_features).flatten()\n",
    "\n",
    "    elif region == 'collinear':\n",
    "        prediction = collinear_model.predict(test_features).flatten()\n",
    "\n",
    "    elif region == 'soft':\n",
    "        prediction = soft_model.predict(test_features).flatten()\n",
    "\n",
    "    else:\n",
    "        prediction = current_model.predict(test_features).flatten()\n",
    "\n",
    "    return print('\\nAffinity: ',prediction[0])"
   ]
  },
  {
   "cell_type": "code",
   "execution_count": null,
   "id": "f542476c-e32e-4298-ad3a-e58efe4364b2",
   "metadata": {},
   "outputs": [],
   "source": [
    "#Initiate user interaction \n",
    "execute = interactive(calculator, {'manual': True},x=x_Input,z=z_Input,Q2=Q2_Input,pT=pT_Input,R0max=R0max_Input,R1max=R1max_Input,R2max=R2max_Input,region=regionDrop)\n",
    "execute"
   ]
  }
 ],
 "metadata": {
  "kernelspec": {
   "display_name": "Python 3",
   "language": "python",
   "name": "python3"
  },
  "language_info": {
   "codemirror_mode": {
    "name": "ipython",
    "version": 3
   },
   "file_extension": ".py",
   "mimetype": "text/x-python",
   "name": "python",
   "nbconvert_exporter": "python",
   "pygments_lexer": "ipython3",
   "version": "3.6.9"
  }
 },
 "nbformat": 4,
 "nbformat_minor": 5
}
